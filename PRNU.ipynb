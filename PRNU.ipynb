{
  "cells": [
    {
      "cell_type": "markdown",
      "metadata": {
        "id": "view-in-github",
        "colab_type": "text"
      },
      "source": [
        "<a href=\"https://colab.research.google.com/github/peritopaulomax/PRNU/blob/master/PRNU.ipynb\" target=\"_parent\"><img src=\"https://colab.research.google.com/assets/colab-badge.svg\" alt=\"Open In Colab\"/></a>"
      ]
    },
    {
      "cell_type": "markdown",
      "metadata": {
        "id": "QBh4fT4YwtdR"
      },
      "source": [
        "Implementação do algoritmo descrito em  *M. Goljan, T. Filler, and J. Fridrich. Large Scale Test of Sensor Fingerprint Camera Identification. In N.D. Memon and E.J. Delp and P.W. Wong and J. Dittmann, editors, Proc. of SPIE, Electronic Imaging, Media Forensics and Security XI, volume 7254, January 2009*.\n",
        "\n",
        "O código abaixo foi adaptado de https://dde.binghamton.edu/download/camera_fingerprint/ e está aqui disponível para fins **acadêmicos e de pesquisa**. Observe que o código está protegido pelas leis de direitos autorais dos Estados Unidos, sendo licenciado sob uma Licença Internacional Creative Commons Atribuição-NãoComercial 4.0, vedando o uso do código para fins comerciais sem a permissão expressa por escrito do titular dos direitos autorais. Para obter permissão, entre em contato com Scott Moser em smoser@binghamton.edu.\n",
        "\n",
        "Adaptação do códio para uso em Jupiter Notebook com colaboração de:\n",
        "\n",
        "Paulo Max Gil Innocencio Reis\n",
        "\n",
        "Andrea Alves Guimarães Dresch"
      ]
    },
    {
      "cell_type": "markdown",
      "metadata": {
        "id": "oAGtj8awy8QX",
        "tags": []
      },
      "source": [
        "# **Importação das bibliotecas e funções necessárias. Bibliteca de funções deve estar carregada na pasta \"*src*\" após clonagem GIT**"
      ]
    },
    {
      "cell_type": "code",
      "execution_count": null,
      "metadata": {
        "id": "34FdDsbTj_rg",
        "tags": []
      },
      "outputs": [],
      "source": [
        "import os\n",
        "def is_running_in_colab():\n",
        "    return 'COLAB_GPU' in os.environ\n",
        "\n",
        "iscolab=is_running_in_colab()\n",
        "\n",
        "if iscolab:\n",
        "    if os.path.exists('/content/PRNU'):\n",
        "        !rm -rf {'/content/PRNU'}\n",
        "    if not os.path.exists('/content/PRNU'):\n",
        "        !git clone https://github.com/peritopaulomax/PRNU.git\n",
        "    if not os.path.exists('/content/src'):\n",
        "        !cp -R /content/PRNU/src /content/src\n",
        "    if not os.path.exists('/content/padrao'):\n",
        "        !mkdir /content/padrao\n",
        "else:\n",
        "    if not os.path.exists('./padrao'):\n",
        "        !mkdir padrao\n",
        "    if not os.path.exists('./src'):\n",
        "        print(\"Instale a pasta 'src' a partir do repositorio em https://github.com/peritopaulomax/PRNU.git\")\n",
        "\n",
        "import src.Functions as Fu\n",
        "import src.Filter as Ft\n",
        "import src.getFingerprint as gF\n",
        "import src.maindir as md\n",
        "import src.extraUtils as eu\n",
        "import numpy as np\n",
        "import cv2 as cv\n",
        "import pickle\n",
        "import ipywidgets as widgets\n",
        "import matplotlib.pyplot as plt\n",
        "from mpl_toolkits.mplot3d import Axes3D\n",
        "from matplotlib.colors import LinearSegmentedColormap\n",
        "import scipy as sp\n",
        "from IPython.display import clear_output\n",
        "\n",
        "\n"
      ]
    },
    {
      "cell_type": "markdown",
      "metadata": {
        "id": "nht1xi4S5M0d"
      },
      "source": [
        "# **Utilize as celulas abaixo caso deseje calcular o PRNU de uma câmera alegada a partir de imagens padrão**\n",
        "\n"
      ]
    },
    {
      "cell_type": "markdown",
      "metadata": {
        "id": "Zoh5HLlh1EYN"
      },
      "source": [
        "Definição dos caminhos da pasta contendo o material padrão (imagens coletadas a partir da câmera conhecida), As imagens padrão devem ser as mais homogêneas possivel (sem conteúdo em alta frequência), e submetidas a luminãncia elevada, sem saturação."
      ]
    },
    {
      "cell_type": "code",
      "execution_count": null,
      "metadata": {
        "id": "E9AOmSmPl7qU",
        "tags": []
      },
      "outputs": [],
      "source": [
        "if iscolab:\n",
        "    caminho_pasta = '/content/padrao'\n",
        "else:\n",
        "    caminho_pasta ='./padrao'\n",
        "\n",
        "lista = os.listdir(caminho_pasta)\n",
        "padrao = [os.path.join(caminho_pasta, x) for x in lista]"
      ]
    },
    {
      "cell_type": "markdown",
      "metadata": {
        "id": "ek8wQVNO1mGO"
      },
      "source": [
        "Cálculo do padrão de PRNU da câmera que alegadamente é fonte da imagem questionada a partir das imagens padrão."
      ]
    },
    {
      "cell_type": "code",
      "execution_count": null,
      "metadata": {
        "id": "vhATg0TifcCO"
      },
      "outputs": [],
      "source": [
        "RP,_,_ = gF.getFingerprint(padrao)\n",
        "RP = Fu.rgb2gray1(RP)\n",
        "sigmaRP = np.std(RP)\n",
        "Fingerprint = Fu.WienerInDFT(RP, sigmaRP)\n",
        "nome_arquivo_fingerprint = input(\"Digite o nome do arquivo para salvar PRNU: \")\n",
        "if not nome_arquivo_fingerprint.endswith(\".prnu\"):\n",
        "    nome_arquivo_fingerprint += \".prnu\"\n",
        "\n",
        "with open(nome_arquivo_fingerprint, 'wb') as arquivo:\n",
        "    pickle.dump(Fingerprint, arquivo)"
      ]
    },
    {
      "cell_type": "markdown",
      "metadata": {
        "id": "8Yzqe_3O5-d8"
      },
      "source": [
        "# **Utilize a célula abaixo caso deseje carregar um arquivo PRNU calculado anteriormente calculado**\n",
        "\n",
        "  * Não é necessario recarregar se tiver acabado de gerar o arquivo PRNU no passo anterior\n"
      ]
    },
    {
      "cell_type": "code",
      "execution_count": null,
      "metadata": {
        "id": "cRJuEQR48Tkk",
        "tags": []
      },
      "outputs": [],
      "source": [
        "if iscolab:\n",
        "    with open('/content/camera1.prnu', 'rb') as arquivo:\n",
        "        Fingerprint = pickle.load(arquivo)\n",
        "else:\n",
        "    with open('./camera1.prnu', 'rb') as arquivo:\n",
        "        Fingerprint = pickle.load(arquivo)"
      ]
    },
    {
      "cell_type": "markdown",
      "metadata": {
        "id": "g6DvNJR18zoj"
      },
      "source": [
        "# **Extração do resíduo de ruído da imagem questionada para comparação com o padrão PRNU da câmera alegada**"
      ]
    },
    {
      "cell_type": "code",
      "execution_count": null,
      "metadata": {
        "id": "SjD3nEYMAKtS",
        "tags": []
      },
      "outputs": [],
      "source": [
        "if iscolab:\n",
        "    questionado = '/content/m2-crop_escala.png'\n",
        "else:\n",
        "    questionado = 'm2-crop_escala.png'\n",
        "\n",
        "Noisex = Ft.NoiseExtractFromImage(questionado, sigma=2.)\n",
        "Noisex = Fu.WienerInDFT(Noisex, np.std(Noisex))\n"
      ]
    },
    {
      "cell_type": "markdown",
      "metadata": {
        "id": "-1Ue2wxyD-UL"
      },
      "source": [
        "# **Escolha do modo de comparação entre padrão e questionado**"
      ]
    },
    {
      "cell_type": "code",
      "execution_count": null,
      "metadata": {
        "colab": {
          "base_uri": "https://localhost:8080/",
          "height": 148,
          "referenced_widgets": [
            "5c5a82fa519c4ebf8574df57fbecc393",
            "0b6584e52480453bb0a32dc1a60582d2",
            "a6e00205312d48c7bbee7bd6a61258f2",
            "a819d766a4b149d2b69a88f8b73b7aa1",
            "72a1e6d00bfa4c0d914dedd13f23b123",
            "ea1bea0b2997423aad3faae978b9ca41",
            "6601a521c9044d778471ef5e158ad61e",
            "2d69669af1f645a1b4d209b22797dee3"
          ]
        },
        "id": "CmxPGDDBD2Eh",
        "outputId": "3fc8305e-c4d8-41f6-eb6d-60ffe4044184",
        "tags": []
      },
      "outputs": [
        {
          "data": {
            "application/vnd.jupyter.widget-view+json": {
              "model_id": "2d69669af1f645a1b4d209b22797dee3",
              "version_major": 2,
              "version_minor": 0
            },
            "text/plain": [
              "interactive(children=(RadioButtons(description='opcao', options=('Completa', 'Recortada', 'Recortada e Redimen…"
            ]
          },
          "metadata": {},
          "output_type": "display_data"
        },
        {
          "data": {
            "text/plain": [
              "<function __main__.tratar_selecao(opcao)>"
            ]
          },
          "execution_count": 7,
          "metadata": {},
          "output_type": "execute_result"
        }
      ],
      "source": [
        "def tratar_selecao(opcao):\n",
        "  global selecao_radiobutton\n",
        "  selecao_radiobutton = opcao\n",
        "  print(\"Opção selecionada:\", opcao)\n",
        "# Criação da combobox com as opções\n",
        "opcoes = ['Completa', 'Recortada', 'Recortada e Redimensionada']\n",
        "radiobutton = widgets.RadioButtons(options=opcoes)\n",
        "\n",
        "# Exibição da combobox\n",
        "#display(radiobutton)\n",
        "widgets.interact(tratar_selecao, opcao=radiobutton)\n"
      ]
    },
    {
      "cell_type": "markdown",
      "metadata": {
        "id": "cZOhinmwIptg"
      },
      "source": [
        "# **Comparação entre questionado e padrão**"
      ]
    },
    {
      "cell_type": "code",
      "execution_count": null,
      "metadata": {
        "id": "YBtZNG1ctLqJ",
        "tags": [],
        "outputId": "e8aac97b-d10f-44dc-ec9d-418345d246ae"
      },
      "outputs": [
        {
          "name": "stdout",
          "output_type": "stream",
          "text": [
            "Razões máxima, atual e mínima:10.1880, 0.4468, 0.4458\n",
            "A razão de reeescalnamento encontrada foi:0.599465\n",
            "A imagem foi recortada em: X=100 e Y=196\n"
          ]
        },
        {
          "data": {
            "image/png": "[encoded data removed]",
            "text/plain": [
              "<Figure size 640x480 with 1 Axes>"
            ]
          },
          "metadata": {},
          "output_type": "display_data"
        }
      ],
      "source": [
        "Ix = cv.cvtColor(cv.imread(questionado),# image in BGR format\n",
        "                 cv.COLOR_BGR2GRAY)\n",
        "\n",
        "if selecao_radiobutton == \"Recortada\":\n",
        "  A=Noisex\n",
        "  B=Ix\n",
        "  if Fingerprint.shape[0] > A.shape[0] or Fingerprint.shape[1] > A.shape[1]:\n",
        "    A = np.pad(A, [(0, abs(Fingerprint.shape[0]-A.shape[0])), (0, abs(Fingerprint.shape[1]-A.shape[1]))])\n",
        "    B = np.pad(B, [(0, abs(Fingerprint.shape[0]-B.shape[0])), (0, abs(Fingerprint.shape[1]-B.shape[1]))])\n",
        "  C = Fu.crosscorr(A, B*Fingerprint)\n",
        "  det, det0 = md.PCE(C, [Fingerprint.shape[0] - Noisex.shape[0], Fingerprint.shape[1] - Noisex.shape[1]])\n",
        "elif selecao_radiobutton == \"Completa\":\n",
        "    aux = Fingerprint\n",
        "    if Ix.shape[0] > Ix.shape[1]:\n",
        "        Ix = np.rot90(Ix,-1)\n",
        "        Noisex = np.rot90(Noisex,-1)\n",
        "\n",
        "    if Fingerprint.shape[1] > Ix.shape[1]:\n",
        "        Fingerprint = cv.resize(Fingerprint, np.size(Ix), interpolation=cv.INTER_LINEAR)\n",
        "\n",
        "    if np.size(Ix) != np.size(Fingerprint):\n",
        "        raise ValueError(\"PRNU e Questionada com dimensões diferentes. Verifique outro método\")\n",
        "\n",
        "    C= Fu.crosscorr(Noisex,np.multiply(Ix, Fingerprint))\n",
        "    det, det0 = md.PCE(C)\n",
        "    Fingerprint = aux\n",
        "elif selecao_radiobutton == \"Recortada e Redimensionada\":\n",
        "    det_max = {\"PCE\": 0}\n",
        "    rT = 1\n",
        "    locT = [0, 0]\n",
        "    rmax = 1 / max([Noisex.shape[0] / Fingerprint.shape[0], Noisex.shape[1]/ Fingerprint.shape[1]])\n",
        "    r = 1\n",
        "    i = 0\n",
        "    pcepce=[]\n",
        "\n",
        "    for r in np.arange(rmax - round((rmax - 0.1) / 0.005) * 0.005, rmax, 0.005):\n",
        "        clear_output(wait=True)\n",
        "        print(f'Razões máxima, atual e mínima:{1/(rmax - round((rmax - 0.1) / 0.005) * 0.005):.4f}, {1/r:.4f}, {1/rmax:.4f}')\n",
        "        Nsized = cv.resize(Noisex, None, fx=r, fy=r, interpolation=cv.INTER_LANCZOS4)\n",
        "        Ixsized = cv.resize(Ix, None, fx=r, fy=r, interpolation=cv.INTER_LANCZOS4)\n",
        "        A=Nsized\n",
        "        B=Ixsized\n",
        "        if Fingerprint.shape[0] > A.shape[0] or Fingerprint.shape[1] > A.shape[1] and np.size(Ixsized)==np.size(Nsized):\n",
        "          A = np.pad(A, [(0, abs(Fingerprint.shape[0]-A.shape[0])), (0, abs(Fingerprint.shape[1]-A.shape[1]))])\n",
        "          B = np.pad(B, [(0, abs(Fingerprint.shape[0]-B.shape[0])), (0, abs(Fingerprint.shape[1]-B.shape[1]))])\n",
        "        C = Fu.crosscorr(A, B*Fingerprint)\n",
        "        if min([Fingerprint.shape[0] - Nsized.shape[0], Fingerprint.shape[1] - Nsized.shape[1]]) >= 0:\n",
        "            det, det0 = md.PCE(C, [Fingerprint.shape[0] - Nsized.shape[0], Fingerprint.shape[1] - Nsized.shape[1]])\n",
        "            loc = det['PeakLocation']\n",
        "            C =  Fu.crosscorr(Nsized, Ixsized * Fingerprint[loc[0]:loc[0]+Ixsized.shape[0], loc[1]:loc[1]+Ixsized.shape[1]])\n",
        "            det, det0 = md.PCE(C)\n",
        "            pcepce.append(det['PCE'])\n",
        "            if det['PCE'] > det_max['PCE']:\n",
        "                det_max = det\n",
        "                rT =1/r\n",
        "                locT=loc\n",
        "        i += 1\n",
        "    det=det_max\n",
        "    det['PeakLocation']=locT\n",
        "    print(f'A razão de reeescalnamento encontrada foi:{rT:5f}')\n",
        "    print(f'A imagem foi recortada em: X={locT[0]} e Y={locT[1]}')\n",
        "    plt.plot(1/np.arange(rmax - round((rmax - 0.1) / 0.005) * 0.005, rmax, 0.005),pcepce)\n",
        "    plt.xlabel('Razão de reescalonamento')\n",
        "    plt.ylabel('PCE')\n",
        "    plt.title('Detecção de reescalonamento')\n",
        "    plt.show()"
      ]
    },
    {
      "cell_type": "code",
      "execution_count": null,
      "metadata": {
        "colab": {
          "base_uri": "https://localhost:8080/"
        },
        "id": "nohrARpwThGP",
        "outputId": "ffdb712a-1c3e-44e2-cfef-da69e6e81976",
        "tags": []
      },
      "outputs": [
        {
          "name": "stdout",
          "output_type": "stream",
          "text": [
            "PCE: 1366.3487187855285\n",
            "pvalue: 2.157533540560186e-299\n",
            "PeakLocation: [100, 196]\n",
            "peakheight: 0.05050737487731826\n",
            "P_FA: 2.157533540560186e-299\n",
            "log10P_FA: -298.6660424441101\n"
          ]
        }
      ],
      "source": [
        "for key in det.keys(): print(\"{0}: {1}\".format(key, det[key]))\n",
        "#Z =np.fft.fftshift(C)\n",
        "#X = np.arange(Z.shape[0])\n",
        "#Y = np.arange(Z.shape[1])\n",
        "#X, Y = np.meshgrid(X, Y)\n",
        "#fig = plt.figure(figsize=(12, 8))\n",
        "#ax = fig.add_subplot(111, projection='3d')\n",
        "#ax.set_facecolor((0.7, 0.7, 0.7))\n",
        "#cmap = LinearSegmentedColormap.from_list(\n",
        "#    \"mycmap\", [(0, \"blue\"),(0.4, \"white\"), (0.7, \"green\"),(1, \"red\")]\n",
        "#)\n",
        "#ax.contour3D(X, Y, Z, 200, cmap=cmap)\n",
        "#ax.set_xlabel('X')\n",
        "#ax.set_ylabel('Y')\n",
        "#ax.set_zlabel('Z')\n",
        "#plt.show()"
      ]
    },
    {
      "cell_type": "code",
      "execution_count": null,
      "metadata": {
        "id": "L0xrTWA9fcCR"
      },
      "outputs": [],
      "source": []
    }
  ],
  "metadata": {
    "colab": {
      "provenance": [],
      "include_colab_link": true
    },
    "kernelspec": {
      "display_name": "Python 3 (ipykernel)",
      "language": "python",
      "name": "python3"
    },
    "language_info": {
      "codemirror_mode": {
        "name": "ipython",
        "version": 3
      },
      "file_extension": ".py",
      "mimetype": "text/x-python",
      "name": "python",
      "nbconvert_exporter": "python",
      "pygments_lexer": "ipython3",
      "version": "3.9.7"
    },
    "widgets": {
      "application/vnd.jupyter.widget-state+json": {
        "0b6584e52480453bb0a32dc1a60582d2": {
          "model_module": "@jupyter-widgets/controls",
          "model_module_version": "1.5.0",
          "model_name": "RadioButtonsModel",
          "state": {
            "_dom_classes": [],
            "_model_module": "@jupyter-widgets/controls",
            "_model_module_version": "1.5.0",
            "_model_name": "RadioButtonsModel",
            "_options_labels": [
              "Completa",
              "Recortada",
              "Recortada e Redimensionada"
            ],
            "_view_count": null,
            "_view_module": "@jupyter-widgets/controls",
            "_view_module_version": "1.5.0",
            "_view_name": "RadioButtonsView",
            "description": "opcao",
            "description_tooltip": null,
            "disabled": false,
            "index": 2,
            "layout": "IPY_MODEL_72a1e6d00bfa4c0d914dedd13f23b123",
            "style": "IPY_MODEL_ea1bea0b2997423aad3faae978b9ca41"
          }
        },
        "5c5a82fa519c4ebf8574df57fbecc393": {
          "model_module": "@jupyter-widgets/controls",
          "model_module_version": "1.5.0",
          "model_name": "VBoxModel",
          "state": {
            "_dom_classes": [
              "widget-interact"
            ],
            "_model_module": "@jupyter-widgets/controls",
            "_model_module_version": "1.5.0",
            "_model_name": "VBoxModel",
            "_view_count": null,
            "_view_module": "@jupyter-widgets/controls",
            "_view_module_version": "1.5.0",
            "_view_name": "VBoxView",
            "box_style": "",
            "children": [
              "IPY_MODEL_0b6584e52480453bb0a32dc1a60582d2",
              "IPY_MODEL_a6e00205312d48c7bbee7bd6a61258f2"
            ],
            "layout": "IPY_MODEL_a819d766a4b149d2b69a88f8b73b7aa1"
          }
        },
        "6601a521c9044d778471ef5e158ad61e": {
          "model_module": "@jupyter-widgets/base",
          "model_module_version": "1.2.0",
          "model_name": "LayoutModel",
          "state": {
            "_model_module": "@jupyter-widgets/base",
            "_model_module_version": "1.2.0",
            "_model_name": "LayoutModel",
            "_view_count": null,
            "_view_module": "@jupyter-widgets/base",
            "_view_module_version": "1.2.0",
            "_view_name": "LayoutView",
            "align_content": null,
            "align_items": null,
            "align_self": null,
            "border": null,
            "bottom": null,
            "display": null,
            "flex": null,
            "flex_flow": null,
            "grid_area": null,
            "grid_auto_columns": null,
            "grid_auto_flow": null,
            "grid_auto_rows": null,
            "grid_column": null,
            "grid_gap": null,
            "grid_row": null,
            "grid_template_areas": null,
            "grid_template_columns": null,
            "grid_template_rows": null,
            "height": null,
            "justify_content": null,
            "justify_items": null,
            "left": null,
            "margin": null,
            "max_height": null,
            "max_width": null,
            "min_height": null,
            "min_width": null,
            "object_fit": null,
            "object_position": null,
            "order": null,
            "overflow": null,
            "overflow_x": null,
            "overflow_y": null,
            "padding": null,
            "right": null,
            "top": null,
            "visibility": null,
            "width": null
          }
        },
        "72a1e6d00bfa4c0d914dedd13f23b123": {
          "model_module": "@jupyter-widgets/base",
          "model_module_version": "1.2.0",
          "model_name": "LayoutModel",
          "state": {
            "_model_module": "@jupyter-widgets/base",
            "_model_module_version": "1.2.0",
            "_model_name": "LayoutModel",
            "_view_count": null,
            "_view_module": "@jupyter-widgets/base",
            "_view_module_version": "1.2.0",
            "_view_name": "LayoutView",
            "align_content": null,
            "align_items": null,
            "align_self": null,
            "border": null,
            "bottom": null,
            "display": null,
            "flex": null,
            "flex_flow": null,
            "grid_area": null,
            "grid_auto_columns": null,
            "grid_auto_flow": null,
            "grid_auto_rows": null,
            "grid_column": null,
            "grid_gap": null,
            "grid_row": null,
            "grid_template_areas": null,
            "grid_template_columns": null,
            "grid_template_rows": null,
            "height": null,
            "justify_content": null,
            "justify_items": null,
            "left": null,
            "margin": null,
            "max_height": null,
            "max_width": null,
            "min_height": null,
            "min_width": null,
            "object_fit": null,
            "object_position": null,
            "order": null,
            "overflow": null,
            "overflow_x": null,
            "overflow_y": null,
            "padding": null,
            "right": null,
            "top": null,
            "visibility": null,
            "width": null
          }
        },
        "a6e00205312d48c7bbee7bd6a61258f2": {
          "model_module": "@jupyter-widgets/output",
          "model_module_version": "1.0.0",
          "model_name": "OutputModel",
          "state": {
            "_dom_classes": [],
            "_model_module": "@jupyter-widgets/output",
            "_model_module_version": "1.0.0",
            "_model_name": "OutputModel",
            "_view_count": null,
            "_view_module": "@jupyter-widgets/output",
            "_view_module_version": "1.0.0",
            "_view_name": "OutputView",
            "layout": "IPY_MODEL_6601a521c9044d778471ef5e158ad61e",
            "msg_id": "",
            "outputs": [
              {
                "name": "stdout",
                "output_type": "stream",
                "text": [
                  "Opção selecionada: Recortada e Redimensionada\n"
                ]
              }
            ]
          }
        },
        "a819d766a4b149d2b69a88f8b73b7aa1": {
          "model_module": "@jupyter-widgets/base",
          "model_module_version": "1.2.0",
          "model_name": "LayoutModel",
          "state": {
            "_model_module": "@jupyter-widgets/base",
            "_model_module_version": "1.2.0",
            "_model_name": "LayoutModel",
            "_view_count": null,
            "_view_module": "@jupyter-widgets/base",
            "_view_module_version": "1.2.0",
            "_view_name": "LayoutView",
            "align_content": null,
            "align_items": null,
            "align_self": null,
            "border": null,
            "bottom": null,
            "display": null,
            "flex": null,
            "flex_flow": null,
            "grid_area": null,
            "grid_auto_columns": null,
            "grid_auto_flow": null,
            "grid_auto_rows": null,
            "grid_column": null,
            "grid_gap": null,
            "grid_row": null,
            "grid_template_areas": null,
            "grid_template_columns": null,
            "grid_template_rows": null,
            "height": null,
            "justify_content": null,
            "justify_items": null,
            "left": null,
            "margin": null,
            "max_height": null,
            "max_width": null,
            "min_height": null,
            "min_width": null,
            "object_fit": null,
            "object_position": null,
            "order": null,
            "overflow": null,
            "overflow_x": null,
            "overflow_y": null,
            "padding": null,
            "right": null,
            "top": null,
            "visibility": null,
            "width": null
          }
        },
        "ea1bea0b2997423aad3faae978b9ca41": {
          "model_module": "@jupyter-widgets/controls",
          "model_module_version": "1.5.0",
          "model_name": "DescriptionStyleModel",
          "state": {
            "_model_module": "@jupyter-widgets/controls",
            "_model_module_version": "1.5.0",
            "_model_name": "DescriptionStyleModel",
            "_view_count": null,
            "_view_module": "@jupyter-widgets/base",
            "_view_module_version": "1.2.0",
            "_view_name": "StyleView",
            "description_width": ""
          }
        }
      }
    }
  },
  "nbformat": 4,
  "nbformat_minor": 0
}