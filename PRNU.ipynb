{
  "cells": [
    {
      "cell_type": "markdown",
      "metadata": {
        "id": "view-in-github",
        "colab_type": "text"
      },
      "source": [
        "<a href=\"https://colab.research.google.com/github/peritopaulomax/PRNU/blob/master/PRNU.ipynb\" target=\"_parent\"><img src=\"https://colab.research.google.com/assets/colab-badge.svg\" alt=\"Open In Colab\"/></a>"
      ]
    },
    {
      "cell_type": "markdown",
      "metadata": {
        "id": "QBh4fT4YwtdR"
      },
      "source": [
        "Implementação do algoritmo descrito em  *M. Goljan, T. Filler, and J. Fridrich. Large Scale Test of Sensor Fingerprint Camera Identification. In N.D. Memon and E.J. Delp and P.W. Wong and J. Dittmann, editors, Proc. of SPIE, Electronic Imaging, Media Forensics and Security XI, volume 7254, January 2009*.\n",
        "\n",
        "O código abaixo foi obtido de https://dde.binghamton.edu/download/camera_fingerprint/ e está aqui disponível para fins **acadêmicos e de pesquisa apenas**. Observe que o código está protegido pelas leis de direitos autorais dos Estados Unidos, sendo licenciado sob uma Licença Internacional Creative Commons Atribuição-NãoComercial 4.0, vedando o uso do código para fins comerciais sem a permissão expressa por escrito do titular dos direitos autorais. Para obter permissão, entre em contato com Scott Moser em smoser@binghamton.edu.\n",
        "\n",
        "Adaptação do códio para uso em notebook python com colaboração de:\n",
        "\n",
        "1) Andrea Alves Guimarães Dresch\n",
        "\n",
        "2) Paulo Max Gil Innocencio Reis"
      ]
    },
    {
      "cell_type": "markdown",
      "metadata": {
        "id": "oAGtj8awy8QX"
      },
      "source": [
        "# **Importação das bibliotecas e funções necessárias. Bibliteca de funções deve estar carregada na pasta \"*src*\"**"
      ]
    },
    {
      "cell_type": "code",
      "execution_count": 1,
      "metadata": {
        "id": "34FdDsbTj_rg",
        "colab": {
          "base_uri": "https://localhost:8080/",
          "height": 373
        },
        "outputId": "e0bbfb15-f497-418a-f7a4-9cc6f71155f4"
      },
      "outputs": [
        {
          "output_type": "error",
          "ename": "ModuleNotFoundError",
          "evalue": "ignored",
          "traceback": [
            "\u001b[0;31m---------------------------------------------------------------------------\u001b[0m",
            "\u001b[0;31mModuleNotFoundError\u001b[0m                       Traceback (most recent call last)",
            "\u001b[0;32m<ipython-input-1-d3132e57436e>\u001b[0m in \u001b[0;36m<cell line: 1>\u001b[0;34m()\u001b[0m\n\u001b[0;32m----> 1\u001b[0;31m \u001b[0;32mimport\u001b[0m \u001b[0msrc\u001b[0m\u001b[0;34m.\u001b[0m\u001b[0mFunctions\u001b[0m \u001b[0;32mas\u001b[0m \u001b[0mFu\u001b[0m\u001b[0;34m\u001b[0m\u001b[0;34m\u001b[0m\u001b[0m\n\u001b[0m\u001b[1;32m      2\u001b[0m \u001b[0;32mimport\u001b[0m \u001b[0msrc\u001b[0m\u001b[0;34m.\u001b[0m\u001b[0mFilter\u001b[0m \u001b[0;32mas\u001b[0m \u001b[0mFt\u001b[0m\u001b[0;34m\u001b[0m\u001b[0;34m\u001b[0m\u001b[0m\n\u001b[1;32m      3\u001b[0m \u001b[0;32mimport\u001b[0m \u001b[0msrc\u001b[0m\u001b[0;34m.\u001b[0m\u001b[0mgetFingerprint\u001b[0m \u001b[0;32mas\u001b[0m \u001b[0mgF\u001b[0m\u001b[0;34m\u001b[0m\u001b[0;34m\u001b[0m\u001b[0m\n\u001b[1;32m      4\u001b[0m \u001b[0;32mimport\u001b[0m \u001b[0msrc\u001b[0m\u001b[0;34m.\u001b[0m\u001b[0mmaindir\u001b[0m \u001b[0;32mas\u001b[0m \u001b[0mmd\u001b[0m\u001b[0;34m\u001b[0m\u001b[0;34m\u001b[0m\u001b[0m\n\u001b[1;32m      5\u001b[0m \u001b[0;32mimport\u001b[0m \u001b[0msrc\u001b[0m\u001b[0;34m.\u001b[0m\u001b[0mextraUtils\u001b[0m \u001b[0;32mas\u001b[0m \u001b[0meu\u001b[0m\u001b[0;34m\u001b[0m\u001b[0;34m\u001b[0m\u001b[0m\n",
            "\u001b[0;31mModuleNotFoundError\u001b[0m: No module named 'src'",
            "",
            "\u001b[0;31m---------------------------------------------------------------------------\u001b[0;32m\nNOTE: If your import is failing due to a missing package, you can\nmanually install dependencies using either !pip or !apt.\n\nTo view examples of installing some common dependencies, click the\n\"Open Examples\" button below.\n\u001b[0;31m---------------------------------------------------------------------------\u001b[0m\n"
          ],
          "errorDetails": {
            "actions": [
              {
                "action": "open_url",
                "actionText": "Open Examples",
                "url": "/notebooks/snippets/importing_libraries.ipynb"
              }
            ]
          }
        }
      ],
      "source": [
        "import src.Functions as Fu\n",
        "import src.Filter as Ft\n",
        "import src.getFingerprint as gF\n",
        "import src.maindir as md\n",
        "import src.extraUtils as eu\n",
        "import numpy as np\n",
        "import os\n",
        "import cv2 as cv\n",
        "import pickle\n",
        "import ipywidgets as widgets\n",
        "import matplotlib.pyplot as plt\n",
        "from mpl_toolkits.mplot3d import Axes3D\n",
        "from matplotlib.colors import LinearSegmentedColormap\n"
      ]
    },
    {
      "cell_type": "markdown",
      "metadata": {
        "id": "nht1xi4S5M0d"
      },
      "source": [
        "# **Utilize as celulas abaixo caso deseje calcular o PRNU de uma câmera alegada a partir de imagens padrão**\n",
        "\n"
      ]
    },
    {
      "cell_type": "markdown",
      "metadata": {
        "id": "Zoh5HLlh1EYN"
      },
      "source": [
        "Definição dos caminhos da pasta contendo o material padrão (imagens coletadas a partir da câmera conhecida), As imagens padrão devem ser as mais homogêneas possivel (sem conteúdo em alta frequência), e submetidas a luminãncia elevada, sem saturação."
      ]
    },
    {
      "cell_type": "code",
      "execution_count": null,
      "metadata": {
        "id": "E9AOmSmPl7qU"
      },
      "outputs": [],
      "source": [
        "caminho_pasta = '/content/padrao'\n",
        "lista = os.listdir(caminho_pasta)\n",
        "padrao = [os.path.join(caminho_pasta, x) for x in lista]"
      ]
    },
    {
      "cell_type": "markdown",
      "metadata": {
        "id": "ek8wQVNO1mGO"
      },
      "source": [
        "Cálculo do padrão de PRNU da câmera que alegadamente é fonte da imagem questionada a partir das imagens padrão."
      ]
    },
    {
      "cell_type": "code",
      "execution_count": null,
      "metadata": {
        "colab": {
          "base_uri": "https://localhost:8080/"
        },
        "id": "7pK-kuQlskVB",
        "outputId": "4820298f-4893-4898-9daa-64a27969f3f4"
      },
      "outputs": [
        {
          "name": "stdout",
          "output_type": "stream",
          "text": [
            "Digite o nome do arquivo para salvar PRNU: camera1\n"
          ]
        }
      ],
      "source": [
        "RP,_,_ = gF.getFingerprint(padrao)\n",
        "RP = Fu.rgb2gray1(RP)\n",
        "sigmaRP = np.std(RP)\n",
        "Fingerprint = Fu.WienerInDFT(RP, sigmaRP)\n",
        "nome_arquivo_fingerprint = input(\"Digite o nome do arquivo para salvar PRNU: \")\n",
        "if not nome_arquivo_fingerprint.endswith(\".prnu\"):\n",
        "    nome_arquivo_fingerprint += \".prnu\"\n",
        "\n",
        "with open(nome_arquivo_fingerprint, 'wb') as arquivo:\n",
        "    pickle.dump(Fingerprint, arquivo)\n"
      ]
    },
    {
      "cell_type": "markdown",
      "metadata": {
        "id": "8Yzqe_3O5-d8"
      },
      "source": [
        "# **Utilize a célula abaixo caso deseje carregar um arquivo PRNU calculado anteriormente calculado**\n",
        "\n",
        "  * Não é necessario recarregar se tiver acabado de gerar o arquivo PRNU no passo anterior\n"
      ]
    },
    {
      "cell_type": "code",
      "execution_count": null,
      "metadata": {
        "id": "cRJuEQR48Tkk"
      },
      "outputs": [],
      "source": [
        "with open('/content/camera1.prnu', 'rb') as arquivo:\n",
        "    Fingerprint = pickle.load(arquivo)"
      ]
    },
    {
      "cell_type": "markdown",
      "metadata": {
        "id": "g6DvNJR18zoj"
      },
      "source": [
        "# **Extração do resíduo de ruído da imagem questionada para comparação com o padrão PRNU da câmera alegada**"
      ]
    },
    {
      "cell_type": "code",
      "execution_count": null,
      "metadata": {
        "id": "SjD3nEYMAKtS"
      },
      "outputs": [],
      "source": [
        "questionado = '/content/IMG_9806.JPG'\n",
        "Noisex = Ft.NoiseExtractFromImage(questionado, sigma=2.)\n",
        "Noisex = Fu.WienerInDFT(Noisex, np.std(Noisex))\n"
      ]
    },
    {
      "cell_type": "markdown",
      "metadata": {
        "id": "-1Ue2wxyD-UL"
      },
      "source": [
        "# **Escolha do modo de comparação entre padrão e questionado**"
      ]
    },
    {
      "cell_type": "code",
      "execution_count": null,
      "metadata": {
        "colab": {
          "background_save": true,
          "base_uri": "https://localhost:8080/",
          "height": 130,
          "referenced_widgets": [
            "5e6a61edbead4f00bb9bd5621e428e7d"
          ]
        },
        "id": "CmxPGDDBD2Eh",
        "outputId": "470de01b-870a-40d6-d4a5-a9a3a47e6903"
      },
      "outputs": [
        {
          "data": {
            "application/vnd.jupyter.widget-view+json": {
              "model_id": "5e6a61edbead4f00bb9bd5621e428e7d",
              "version_major": 2,
              "version_minor": 0
            },
            "text/plain": [
              "interactive(children=(RadioButtons(description='opcao', options=('Completa', 'Recortada', 'Recortada e Redimen…"
            ]
          },
          "metadata": {},
          "output_type": "display_data"
        },
        {
          "name": "stdout",
          "output_type": "stream",
          "text": [
            "Opção selecionada: Completa\n"
          ]
        }
      ],
      "source": [
        "def tratar_selecao(opcao):\n",
        "    print(\"Opção selecionada:\", opcao)\n",
        "# Criação da combobox com as opções\n",
        "opcoes = ['Completa', 'Recortada', 'Recortada e Redimensionada']\n",
        "radiobutton = widgets.RadioButtons(options=opcoes)\n",
        "\n",
        "# Exibição da combobox\n",
        "#display(radiobutton)\n",
        "widgets.interact(tratar_selecao, opcao=radiobutton)\n",
        "selecao_radiobutton = radiobutton.value\n"
      ]
    },
    {
      "cell_type": "markdown",
      "metadata": {
        "id": "cZOhinmwIptg"
      },
      "source": [
        "# **Comparação entre questionado e padrão**"
      ]
    },
    {
      "cell_type": "code",
      "execution_count": null,
      "metadata": {
        "colab": {
          "background_save": true
        },
        "id": "YBtZNG1ctLqJ",
        "outputId": "c184bf5d-6ad9-4596-8a0b-fe8e4e53f5e9"
      },
      "outputs": [
        {
          "ename": "NameError",
          "evalue": "ignored",
          "output_type": "error",
          "traceback": [
            "\u001b[0;31m---------------------------------------------------------------------------\u001b[0m",
            "\u001b[0;31mNameError\u001b[0m                                 Traceback (most recent call last)",
            "\u001b[0;32m<ipython-input-6-9fefae26d27f>\u001b[0m in \u001b[0;36m<cell line: 4>\u001b[0;34m()\u001b[0m\n\u001b[1;32m      9\u001b[0m   \u001b[0;32melse\u001b[0m\u001b[0;34m:\u001b[0m\u001b[0;34m\u001b[0m\u001b[0;34m\u001b[0m\u001b[0m\n\u001b[1;32m     10\u001b[0m     \u001b[0mNoisex_padded\u001b[0m \u001b[0;34m=\u001b[0m \u001b[0mnp\u001b[0m\u001b[0;34m.\u001b[0m\u001b[0mpad\u001b[0m\u001b[0;34m(\u001b[0m\u001b[0mNoisex\u001b[0m\u001b[0;34m,\u001b[0m \u001b[0;34m(\u001b[0m\u001b[0;34m(\u001b[0m\u001b[0;36m0\u001b[0m\u001b[0;34m,\u001b[0m \u001b[0mpad_height\u001b[0m\u001b[0;34m)\u001b[0m\u001b[0;34m,\u001b[0m \u001b[0;34m(\u001b[0m\u001b[0;36m0\u001b[0m\u001b[0;34m,\u001b[0m \u001b[0mpad_width\u001b[0m\u001b[0;34m)\u001b[0m\u001b[0;34m)\u001b[0m\u001b[0;34m)\u001b[0m\u001b[0;34m\u001b[0m\u001b[0;34m\u001b[0m\u001b[0m\n\u001b[0;32m---> 11\u001b[0;31m     \u001b[0mC\u001b[0m \u001b[0;34m=\u001b[0m \u001b[0msp\u001b[0m\u001b[0;34m.\u001b[0m\u001b[0msignal\u001b[0m\u001b[0;34m.\u001b[0m\u001b[0mcorrelate2d\u001b[0m\u001b[0;34m(\u001b[0m\u001b[0mNoisex\u001b[0m\u001b[0;34m,\u001b[0m\u001b[0mFingerprint\u001b[0m\u001b[0;34m)\u001b[0m\u001b[0;34m\u001b[0m\u001b[0;34m\u001b[0m\u001b[0m\n\u001b[0m\u001b[1;32m     12\u001b[0m     \u001b[0mdet\u001b[0m\u001b[0;34m,\u001b[0m \u001b[0mdet0\u001b[0m \u001b[0;34m=\u001b[0m \u001b[0mmd\u001b[0m\u001b[0;34m.\u001b[0m\u001b[0mPCE\u001b[0m\u001b[0;34m(\u001b[0m\u001b[0mC\u001b[0m\u001b[0;34m,\u001b[0m \u001b[0mnp\u001b[0m\u001b[0;34m.\u001b[0m\u001b[0msize\u001b[0m\u001b[0;34m(\u001b[0m\u001b[0mFingerprint\u001b[0m\u001b[0;34m)\u001b[0m \u001b[0;34m-\u001b[0m \u001b[0mnp\u001b[0m\u001b[0;34m.\u001b[0m\u001b[0msize\u001b[0m\u001b[0;34m(\u001b[0m\u001b[0mNoisex\u001b[0m\u001b[0;34m)\u001b[0m\u001b[0;34m)\u001b[0m\u001b[0;34m\u001b[0m\u001b[0;34m\u001b[0m\u001b[0m\n\u001b[1;32m     13\u001b[0m \u001b[0;32melif\u001b[0m \u001b[0mselecao_radiobutton\u001b[0m \u001b[0;34m==\u001b[0m \u001b[0;34m\"Completa\"\u001b[0m\u001b[0;34m:\u001b[0m\u001b[0;34m\u001b[0m\u001b[0;34m\u001b[0m\u001b[0m\n",
            "\u001b[0;31mNameError\u001b[0m: name 'sp' is not defined"
          ]
        }
      ],
      "source": [
        "Ix = cv.cvtColor(cv.imread(questionado),# image in BGR format\n",
        "                 cv.COLOR_BGR2GRAY)\n",
        "\n",
        "if selecao_radiobutton == \"Recortada\":\n",
        "  C = Fu.crosscorr(Noisex,Fingerprint)\n",
        "  det, det0 = md.PCE(C, np.size(Fingerprint) - np.size(Noisex))\n",
        "elif selecao_radiobutton == \"Completa\":\n",
        "    aux = Fingerprint\n",
        "    if Ix.shape[0] > Ix.shape[1]:\n",
        "        Ix = np.rot90(Ix,-1)\n",
        "        Noisex = np.rot90(Noisex,-1)\n",
        "\n",
        "    if Fingerprint.shape[1] > Ix.shape[1]:\n",
        "        Fingerprint = cv.resize(Fingerprint, np.size(Ix), interpolation=cv.INTER_LINEAR)\n",
        "\n",
        "    if np.size(Ix) != np.size(Fingerprint):\n",
        "        raise ValueError(\"PRNU e Questionada com dimensões diferentes. Verifique outro método\")\n",
        "\n",
        "    C= Fu.crosscorr(Noisex,np.multiply(Ix, Fingerprint))\n",
        "    det, det0 = md.PCE(C)\n",
        "    Fingerprint = aux\n",
        "elif selecao_radiobutton == \"Recortada e Redimensionada\":\n",
        "    detpce = 0\n",
        "    rT = 1\n",
        "    locT = [0, 0]\n",
        "    rmax = 1 / max([Noisex.shape[0] / Fingerprint.shape[0], Noisex.shape[1]/ Fingerprint.shape[1]])\n",
        "    r = 1\n",
        "    i = 0\n",
        "    for r in np.arange(rmax - round((rmax - 0.1) / 0.005) * 0.005, rmax, 0.005):\n",
        "        # waitbar(r / rmax)  # Não há equivalente direto para waitbar em Python\n",
        "        pass\n",
        "        Nsized = cv.resize(Noisex, None, fx=r, fy=r, interpolation=cv.INTER_CUBIC)\n",
        "        Ixsized = cv.resize(Ix, None, fx=r, fy=r, interpolation=cv.INTER_LINEAR)\n",
        "        C = Fu.crosscorr(Nsized, Fingerprint)\n",
        "        if min(np.size(Fingerprint) - np.size(Nsized)) >= 0:\n",
        "            det, det0 = md.PCE(C, np.size(Fingerprint) - np.size(Nsized))\n",
        "            locT = det.PeakLocation\n",
        "            C =  Fu.crosscorr(Nsized, Ixsized * Fingerprint[locT[0]+1:locT[0]+np.size(Nsized, 0), locT[1]+1:locT[1]+np.size(Nsized, 1)])\n",
        "            det, det0 = md.PCE(C)\n",
        "            pcepce[i+1] = det.PCE\n",
        "            if det.PCE > detpce:\n",
        "                detpce = det.PCE\n",
        "                rT = r\n",
        "        i += 1\n",
        "\n",
        "    print(rT)\n",
        "    print(locT)\n",
        "\n",
        "\n",
        "\n",
        "\n",
        "\n",
        "\n",
        "\n",
        "\n",
        "\n"
      ]
    },
    {
      "cell_type": "code",
      "execution_count": null,
      "metadata": {
        "colab": {
          "base_uri": "https://localhost:8080/"
        },
        "id": "nohrARpwThGP",
        "outputId": "374ec518-5a38-4aca-81cc-f8372770e246"
      },
      "outputs": [
        {
          "name": "stdout",
          "output_type": "stream",
          "text": [
            "PCE: 23337.83123234562\n",
            "pvalue: 0.0\n",
            "PeakLocation: [0, 0]\n",
            "peakheight: 0.05981065958916227\n",
            "P_FA: 0.0\n",
            "log10P_FA: -5070.3287820801725\n"
          ]
        }
      ],
      "source": [
        "for key in det.keys(): print(\"{0}: {1}\".format(key, det[key]))\n",
        "##Z =np.fft.fftshift(C)\n",
        "#X = np.arange(Z.shape[0])\n",
        "#Y = np.arange(Z.shape[1])\n",
        "#X, Y = np.meshgrid(X, Y)\n",
        "#fig = plt.figure(figsize=(12, 8))\n",
        "#ax = fig.add_subplot(111, projection='3d')\n",
        "#ax.set_facecolor((0.7, 0.7, 0.7))\n",
        "#cmap = LinearSegmentedColormap.from_list(\n",
        "#    \"mycmap\", [(0, \"blue\"),(0.4, \"white\"), (0.7, \"green\"),(1, \"red\")]\n",
        "#)\n",
        "#ax.contour3D(X, Y, Z, 200, cmap=cmap)\n",
        "#ax.set_xlabel('X')\n",
        "#ax.set_ylabel('Y')\n",
        "#ax.set_zlabel('Z')\n",
        "#plt.show()"
      ]
    },
    {
      "cell_type": "code",
      "execution_count": null,
      "metadata": {
        "id": "3PNwD7UOf6dj"
      },
      "outputs": [],
      "source": [
        "ax.set_facecolor((0.1, 0.1, 0.1))"
      ]
    },
    {
      "cell_type": "code",
      "execution_count": null,
      "metadata": {
        "id": "HSGaAQxIf8gi"
      },
      "outputs": [],
      "source": [
        "plt.show()"
      ]
    },
    {
      "cell_type": "code",
      "execution_count": null,
      "metadata": {
        "id": "iBFkZ4e2ALEM"
      },
      "outputs": [],
      "source": [
        "!ls src/ -a\n",
        "!rmdir src\n"
      ]
    }
  ],
  "metadata": {
    "colab": {
      "provenance": [],
      "authorship_tag": "ABX9TyOtfmxqVnogG3anbakSn5eN",
      "include_colab_link": true
    },
    "kernelspec": {
      "display_name": "Python 3",
      "name": "python3"
    },
    "language_info": {
      "name": "python"
    }
  },
  "nbformat": 4,
  "nbformat_minor": 0
}