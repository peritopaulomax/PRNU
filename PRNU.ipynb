{
  "cells": [
    {
      "cell_type": "markdown",
      "metadata": {
        "id": "view-in-github",
        "colab_type": "text"
      },
      "source": [
        "<a href=\"https://colab.research.google.com/github/peritopaulomax/PRNU/blob/master/PRNU.ipynb\" target=\"_parent\"><img src=\"https://colab.research.google.com/assets/colab-badge.svg\" alt=\"Open In Colab\"/></a>"
      ]
    },
    {
      "cell_type": "markdown",
      "metadata": {
        "id": "QBh4fT4YwtdR"
      },
      "source": [
        "Implementação do algoritmo descrito em  *M. Goljan, T. Filler, and J. Fridrich. Large Scale Test of Sensor Fingerprint Camera Identification. In N.D. Memon and E.J. Delp and P.W. Wong and J. Dittmann, editors, Proc. of SPIE, Electronic Imaging, Media Forensics and Security XI, volume 7254, January 2009*.\n",
        "\n",
        "O código abaixo foi obtido de https://dde.binghamton.edu/download/camera_fingerprint/ e está aqui disponível para fins **acadêmicos e de pesquisa apenas**. Observe que o código está protegido pelas leis de direitos autorais dos Estados Unidos, sendo licenciado sob uma Licença Internacional Creative Commons Atribuição-NãoComercial 4.0, vedando o uso do código para fins comerciais sem a permissão expressa por escrito do titular dos direitos autorais. Para obter permissão, entre em contato com Scott Moser em smoser@binghamton.edu.\n",
        "\n",
        "Adaptação do códio para uso em notebook python com colaboração de:\n",
        "\n",
        "1) Andrea Alves Guimarães Dresch\n",
        "\n",
        "2) Paulo Max Gil Innocencio Reis"
      ]
    },
    {
      "cell_type": "markdown",
      "metadata": {
        "id": "oAGtj8awy8QX"
      },
      "source": [
        "# **Importação das bibliotecas e funções necessárias. Bibliteca de funções deve estar carregada na pasta \"*src*\"**"
      ]
    },
    {
      "cell_type": "code",
      "execution_count": 3,
      "metadata": {
        "id": "34FdDsbTj_rg",
        "colab": {
          "base_uri": "https://localhost:8080/"
        },
        "outputId": "76d19265-02c3-46ea-f372-c6861cdfb9dd"
      },
      "outputs": [
        {
          "output_type": "stream",
          "name": "stdout",
          "text": [
            "Cloning into 'PRNU'...\n",
            "remote: Enumerating objects: 25, done.\u001b[K\n",
            "remote: Counting objects: 100% (25/25), done.\u001b[K\n",
            "remote: Compressing objects: 100% (19/19), done.\u001b[K\n",
            "remote: Total 25 (delta 7), reused 19 (delta 5), pack-reused 0\u001b[K\n",
            "Receiving objects: 100% (25/25), 36.53 KiB | 3.65 MiB/s, done.\n",
            "Resolving deltas: 100% (7/7), done.\n"
          ]
        }
      ],
      "source": [
        "import os\n",
        "\n",
        "if os.path.exists('/content/PRNU'):\n",
        "  !rm -rf {'/content/PRNU'}\n",
        "\n",
        "if not os.path.exists('/content/PRNU'):\n",
        "  !git clone https://github.com/peritopaulomax/PRNU.git\n",
        "\n",
        "\n",
        "if not os.path.exists('/content/src'):\n",
        "  !cp -R /content/PRNU/src /content/src\n",
        "\n",
        "if not os.path.exists('/content/padrao'):\n",
        "  !mkdir /content/padrao\n",
        "\n",
        "import src.Functions as Fu\n",
        "import src.Filter as Ft\n",
        "import src.getFingerprint as gF\n",
        "import src.maindir as md\n",
        "import src.extraUtils as eu\n",
        "import numpy as np\n",
        "import cv2 as cv\n",
        "import pickle\n",
        "import ipywidgets as widgets\n",
        "import matplotlib.pyplot as plt\n",
        "from mpl_toolkits.mplot3d import Axes3D\n",
        "from matplotlib.colors import LinearSegmentedColormap\n",
        "import scipy as sp\n",
        "\n"
      ]
    },
    {
      "cell_type": "markdown",
      "metadata": {
        "id": "nht1xi4S5M0d"
      },
      "source": [
        "# **Utilize as celulas abaixo caso deseje calcular o PRNU de uma câmera alegada a partir de imagens padrão**\n",
        "\n"
      ]
    },
    {
      "cell_type": "markdown",
      "metadata": {
        "id": "Zoh5HLlh1EYN"
      },
      "source": [
        "Definição dos caminhos da pasta contendo o material padrão (imagens coletadas a partir da câmera conhecida), As imagens padrão devem ser as mais homogêneas possivel (sem conteúdo em alta frequência), e submetidas a luminãncia elevada, sem saturação."
      ]
    },
    {
      "cell_type": "code",
      "execution_count": 2,
      "metadata": {
        "id": "E9AOmSmPl7qU"
      },
      "outputs": [],
      "source": [
        "caminho_pasta = '/content/padrao'\n",
        "lista = os.listdir(caminho_pasta)\n",
        "padrao = [os.path.join(caminho_pasta, x) for x in lista]"
      ]
    },
    {
      "cell_type": "markdown",
      "metadata": {
        "id": "ek8wQVNO1mGO"
      },
      "source": [
        "Cálculo do padrão de PRNU da câmera que alegadamente é fonte da imagem questionada a partir das imagens padrão."
      ]
    },
    {
      "cell_type": "code",
      "execution_count": 3,
      "metadata": {
        "colab": {
          "base_uri": "https://localhost:8080/"
        },
        "id": "7pK-kuQlskVB",
        "outputId": "4840e120-81ff-48eb-9c4c-3681254d787a"
      },
      "outputs": [
        {
          "name": "stdout",
          "output_type": "stream",
          "text": [
            "Digite o nome do arquivo para salvar PRNU: camera1\n"
          ]
        }
      ],
      "source": [
        "RP,_,_ = gF.getFingerprint(padrao)\n",
        "RP = Fu.rgb2gray1(RP)\n",
        "sigmaRP = np.std(RP)\n",
        "Fingerprint = Fu.WienerInDFT(RP, sigmaRP)\n",
        "nome_arquivo_fingerprint = input(\"Digite o nome do arquivo para salvar PRNU: \")\n",
        "if not nome_arquivo_fingerprint.endswith(\".prnu\"):\n",
        "    nome_arquivo_fingerprint += \".prnu\"\n",
        "\n",
        "with open(nome_arquivo_fingerprint, 'wb') as arquivo:\n",
        "    pickle.dump(Fingerprint, arquivo)\n"
      ]
    },
    {
      "cell_type": "markdown",
      "metadata": {
        "id": "8Yzqe_3O5-d8"
      },
      "source": [
        "# **Utilize a célula abaixo caso deseje carregar um arquivo PRNU calculado anteriormente calculado**\n",
        "\n",
        "  * Não é necessario recarregar se tiver acabado de gerar o arquivo PRNU no passo anterior\n"
      ]
    },
    {
      "cell_type": "code",
      "execution_count": 4,
      "metadata": {
        "id": "cRJuEQR48Tkk"
      },
      "outputs": [],
      "source": [
        "with open('/content/camera1.prnu', 'rb') as arquivo:\n",
        "    Fingerprint = pickle.load(arquivo)"
      ]
    },
    {
      "cell_type": "markdown",
      "metadata": {
        "id": "g6DvNJR18zoj"
      },
      "source": [
        "# **Extração do resíduo de ruído da imagem questionada para comparação com o padrão PRNU da câmera alegada**"
      ]
    },
    {
      "cell_type": "code",
      "execution_count": 5,
      "metadata": {
        "id": "SjD3nEYMAKtS"
      },
      "outputs": [],
      "source": [
        "questionado = '/content/Ex-2_rec_escala.png'\n",
        "Noisex = Ft.NoiseExtractFromImage(questionado, sigma=2.)\n",
        "Noisex = Fu.WienerInDFT(Noisex, np.std(Noisex))\n"
      ]
    },
    {
      "cell_type": "markdown",
      "metadata": {
        "id": "-1Ue2wxyD-UL"
      },
      "source": [
        "# **Escolha do modo de comparação entre padrão e questionado**"
      ]
    },
    {
      "cell_type": "code",
      "execution_count": 6,
      "metadata": {
        "colab": {
          "base_uri": "https://localhost:8080/",
          "height": 148,
          "referenced_widgets": [
            "5c5a82fa519c4ebf8574df57fbecc393",
            "0b6584e52480453bb0a32dc1a60582d2",
            "a6e00205312d48c7bbee7bd6a61258f2",
            "a819d766a4b149d2b69a88f8b73b7aa1",
            "72a1e6d00bfa4c0d914dedd13f23b123",
            "ea1bea0b2997423aad3faae978b9ca41",
            "6601a521c9044d778471ef5e158ad61e"
          ]
        },
        "id": "CmxPGDDBD2Eh",
        "outputId": "3fc8305e-c4d8-41f6-eb6d-60ffe4044184"
      },
      "outputs": [
        {
          "output_type": "display_data",
          "data": {
            "text/plain": [
              "interactive(children=(RadioButtons(description='opcao', options=('Completa', 'Recortada', 'Recortada e Redimen…"
            ],
            "application/vnd.jupyter.widget-view+json": {
              "version_major": 2,
              "version_minor": 0,
              "model_id": "5c5a82fa519c4ebf8574df57fbecc393"
            }
          },
          "metadata": {}
        },
        {
          "output_type": "execute_result",
          "data": {
            "text/plain": [
              "<function __main__.tratar_selecao(opcao)>"
            ]
          },
          "metadata": {},
          "execution_count": 6
        }
      ],
      "source": [
        "def tratar_selecao(opcao):\n",
        "  global selecao_radiobutton\n",
        "  selecao_radiobutton = opcao\n",
        "  print(\"Opção selecionada:\", opcao)\n",
        "# Criação da combobox com as opções\n",
        "opcoes = ['Completa', 'Recortada', 'Recortada e Redimensionada']\n",
        "radiobutton = widgets.RadioButtons(options=opcoes)\n",
        "\n",
        "# Exibição da combobox\n",
        "#display(radiobutton)\n",
        "widgets.interact(tratar_selecao, opcao=radiobutton)\n"
      ]
    },
    {
      "cell_type": "markdown",
      "metadata": {
        "id": "cZOhinmwIptg"
      },
      "source": [
        "# **Comparação entre questionado e padrão**"
      ]
    },
    {
      "cell_type": "code",
      "execution_count": null,
      "metadata": {
        "id": "YBtZNG1ctLqJ"
      },
      "outputs": [],
      "source": [
        "Ix = cv.cvtColor(cv.imread(questionado),# image in BGR format\n",
        "                 cv.COLOR_BGR2GRAY)\n",
        "\n",
        "if selecao_radiobutton == \"Recortada\":\n",
        "  A=Noisex\n",
        "  B=Ix\n",
        "  if Fingerprint.shape[0] > A.shape[0] or Fingerprint.shape[1] > A.shape[1]:\n",
        "    A = np.pad(A, [(0, abs(Fingerprint.shape[0]-A.shape[0])), (0, abs(Fingerprint.shape[1]-A.shape[1]))])\n",
        "    B = np.pad(B, [(0, abs(Fingerprint.shape[0]-B.shape[0])), (0, abs(Fingerprint.shape[1]-B.shape[1]))])\n",
        "  C = Fu.crosscorr(A, B*Fingerprint)\n",
        "  det, det0 = md.PCE(C, [Fingerprint.shape[0] - Noisex.shape[0], Fingerprint.shape[1] - Noisex.shape[1]])\n",
        "elif selecao_radiobutton == \"Completa\":\n",
        "    aux = Fingerprint\n",
        "    if Ix.shape[0] > Ix.shape[1]:\n",
        "        Ix = np.rot90(Ix,-1)\n",
        "        Noisex = np.rot90(Noisex,-1)\n",
        "\n",
        "    if Fingerprint.shape[1] > Ix.shape[1]:\n",
        "        Fingerprint = cv.resize(Fingerprint, np.size(Ix), interpolation=cv.INTER_LINEAR)\n",
        "\n",
        "    if np.size(Ix) != np.size(Fingerprint):\n",
        "        raise ValueError(\"PRNU e Questionada com dimensões diferentes. Verifique outro método\")\n",
        "\n",
        "    C= Fu.crosscorr(Noisex,np.multiply(Ix, Fingerprint))\n",
        "    det, det0 = md.PCE(C)\n",
        "    Fingerprint = aux\n",
        "elif selecao_radiobutton == \"Recortada e Redimensionada\":\n",
        "    detpce = 0\n",
        "    rT = 1\n",
        "    locT = [0, 0]\n",
        "    rmax = 1 / max([Noisex.shape[0] / Fingerprint.shape[0], Noisex.shape[1]/ Fingerprint.shape[1]])\n",
        "    r = 1\n",
        "    i = 0\n",
        "    pcepce=[]\n",
        "    aux=Fingerprint\n",
        "    for r in np.arange(rmax - round((rmax - 0.1) / 0.005) * 0.005, rmax, 0.005):\n",
        "        # waitbar(r / rmax)  # Não há equivalente direto para waitbar em Python\n",
        "        pass\n",
        "        #Nsized = cv.resize(Noisex, None, fx=r, fy=r, interpolation=cv.INTER_LANCZOS4)\n",
        "        #Ixsized = cv.resize(Ix, None, fx=r, fy=r, interpolation=cv.INTER_LANCZOS4)\n",
        "        Fingerprint = cv.resize(aux, None, fx=1/r, fy=1/r, interpolation=cv.INTER_CUBIC)\n",
        "        #A=Nsized\n",
        "        #B=Ixsized\n",
        "        A=Noisex\n",
        "        B=Ix\n",
        "        if Fingerprint.shape[0] > A.shape[0] or Fingerprint.shape[1] > A.shape[1]:\n",
        "          A = np.pad(A, [(0, abs(Fingerprint.shape[0]-A.shape[0])), (0, abs(Fingerprint.shape[1]-A.shape[1]))])\n",
        "          B = np.pad(B, [(0, abs(Fingerprint.shape[0]-B.shape[0])), (0, abs(Fingerprint.shape[1]-B.shape[1]))])\n",
        "        C = Fu.crosscorr(A, B*Fingerprint)\n",
        "        #if min([Fingerprint.shape[0] - Nsized.shape[0], Fingerprint.shape[1] - Nsized.shape[1]]) >= 0:\n",
        "        if min([Fingerprint.shape[0] - Noisex.shape[0], Fingerprint.shape[1] - Noisex.shape[1]]) >= 0:\n",
        "            #det, det0 = md.PCE(C, [Fingerprint.shape[0] - Nsized.shape[0], Fingerprint.shape[1] - Nsized.shape[1]])\n",
        "            det, det0 = md.PCE(C, [Fingerprint.shape[0] - Noisex.shape[0], Fingerprint.shape[1] - Noisex.shape[1]])\n",
        "            locT = det['PeakLocation']\n",
        "            #C =  Fu.crosscorr(Nsized, Ixsized * Fingerprint[locT[0]:locT[0]+np.size(Nsized, 0), locT[1]:locT[1]+np.size(Nsized, 1)])\n",
        "            #det, det0 = md.PCE(C)\n",
        "            pcepce.append(det['PCE'])\n",
        "            if det['PCE'] > detpce:\n",
        "                detpce = det['PCE']\n",
        "                rT = r\n",
        "        i += 1\n",
        "\n",
        "    print(1/rT)\n",
        "    print(locT)\n",
        "\n",
        "\n",
        "\n",
        "\n",
        "\n",
        "\n",
        "\n",
        "\n",
        "\n"
      ]
    },
    {
      "cell_type": "code",
      "execution_count": 35,
      "metadata": {
        "colab": {
          "base_uri": "https://localhost:8080/"
        },
        "id": "nohrARpwThGP",
        "outputId": "ffdb712a-1c3e-44e2-cfef-da69e6e81976"
      },
      "outputs": [
        {
          "output_type": "stream",
          "name": "stdout",
          "text": [
            "PCE: 9.862630363509002\n",
            "pvalue: 0.0008433489075323214\n",
            "PeakLocation: [3, 2]\n",
            "peakheight: 0.003384115311269983\n",
            "P_FA: 0.32890607393760535\n",
            "log10P_FA: -0.4829281062886186\n"
          ]
        }
      ],
      "source": [
        "for key in det.keys(): print(\"{0}: {1}\".format(key, det[key]))\n",
        "#Z =np.fft.fftshift(C)\n",
        "#X = np.arange(Z.shape[0])\n",
        "#Y = np.arange(Z.shape[1])\n",
        "#X, Y = np.meshgrid(X, Y)\n",
        "#fig = plt.figure(figsize=(12, 8))\n",
        "#ax = fig.add_subplot(111, projection='3d')\n",
        "#ax.set_facecolor((0.7, 0.7, 0.7))\n",
        "#cmap = LinearSegmentedColormap.from_list(\n",
        "#    \"mycmap\", [(0, \"blue\"),(0.4, \"white\"), (0.7, \"green\"),(1, \"red\")]\n",
        "#)\n",
        "#ax.contour3D(X, Y, Z, 200, cmap=cmap)\n",
        "#ax.set_xlabel('X')\n",
        "#ax.set_ylabel('Y')\n",
        "#ax.set_zlabel('Z')\n",
        "#plt.show()"
      ]
    },
    {
      "cell_type": "code",
      "execution_count": null,
      "metadata": {
        "id": "3PNwD7UOf6dj"
      },
      "outputs": [],
      "source": [
        "ax.set_facecolor((0.1, 0.1, 0.1))"
      ]
    },
    {
      "cell_type": "code",
      "execution_count": null,
      "metadata": {
        "id": "HSGaAQxIf8gi"
      },
      "outputs": [],
      "source": [
        "plt.show()"
      ]
    },
    {
      "cell_type": "code",
      "execution_count": null,
      "metadata": {
        "id": "iBFkZ4e2ALEM"
      },
      "outputs": [],
      "source": [
        "!ls src/ -a\n",
        "!rmdir src\n"
      ]
    },
    {
      "cell_type": "code",
      "source": [
        "np.max(C)"
      ],
      "metadata": {
        "colab": {
          "base_uri": "https://localhost:8080/"
        },
        "id": "KmP_rhUuK_fb",
        "outputId": "09f7598d-6b5c-4f4e-f90e-b6f2a284b65e"
      },
      "execution_count": 14,
      "outputs": [
        {
          "output_type": "execute_result",
          "data": {
            "text/plain": [
              "0.009750807362288992"
            ]
          },
          "metadata": {},
          "execution_count": 14
        }
      ]
    }
  ],
  "metadata": {
    "colab": {
      "provenance": [],
      "authorship_tag": "ABX9TyOOSvneRHuXWOZkQJmewNBM",
      "include_colab_link": true
    },
    "kernelspec": {
      "display_name": "Python 3",
      "name": "python3"
    },
    "language_info": {
      "name": "python"
    },
    "widgets": {
      "application/vnd.jupyter.widget-state+json": {
        "5c5a82fa519c4ebf8574df57fbecc393": {
          "model_module": "@jupyter-widgets/controls",
          "model_name": "VBoxModel",
          "model_module_version": "1.5.0",
          "state": {
            "_dom_classes": [
              "widget-interact"
            ],
            "_model_module": "@jupyter-widgets/controls",
            "_model_module_version": "1.5.0",
            "_model_name": "VBoxModel",
            "_view_count": null,
            "_view_module": "@jupyter-widgets/controls",
            "_view_module_version": "1.5.0",
            "_view_name": "VBoxView",
            "box_style": "",
            "children": [
              "IPY_MODEL_0b6584e52480453bb0a32dc1a60582d2",
              "IPY_MODEL_a6e00205312d48c7bbee7bd6a61258f2"
            ],
            "layout": "IPY_MODEL_a819d766a4b149d2b69a88f8b73b7aa1"
          }
        },
        "0b6584e52480453bb0a32dc1a60582d2": {
          "model_module": "@jupyter-widgets/controls",
          "model_name": "RadioButtonsModel",
          "model_module_version": "1.5.0",
          "state": {
            "_dom_classes": [],
            "_model_module": "@jupyter-widgets/controls",
            "_model_module_version": "1.5.0",
            "_model_name": "RadioButtonsModel",
            "_options_labels": [
              "Completa",
              "Recortada",
              "Recortada e Redimensionada"
            ],
            "_view_count": null,
            "_view_module": "@jupyter-widgets/controls",
            "_view_module_version": "1.5.0",
            "_view_name": "RadioButtonsView",
            "description": "opcao",
            "description_tooltip": null,
            "disabled": false,
            "index": 2,
            "layout": "IPY_MODEL_72a1e6d00bfa4c0d914dedd13f23b123",
            "style": "IPY_MODEL_ea1bea0b2997423aad3faae978b9ca41"
          }
        },
        "a6e00205312d48c7bbee7bd6a61258f2": {
          "model_module": "@jupyter-widgets/output",
          "model_name": "OutputModel",
          "model_module_version": "1.0.0",
          "state": {
            "_dom_classes": [],
            "_model_module": "@jupyter-widgets/output",
            "_model_module_version": "1.0.0",
            "_model_name": "OutputModel",
            "_view_count": null,
            "_view_module": "@jupyter-widgets/output",
            "_view_module_version": "1.0.0",
            "_view_name": "OutputView",
            "layout": "IPY_MODEL_6601a521c9044d778471ef5e158ad61e",
            "msg_id": "",
            "outputs": [
              {
                "output_type": "stream",
                "name": "stdout",
                "text": [
                  "Opção selecionada: Recortada e Redimensionada\n"
                ]
              }
            ]
          }
        },
        "a819d766a4b149d2b69a88f8b73b7aa1": {
          "model_module": "@jupyter-widgets/base",
          "model_name": "LayoutModel",
          "model_module_version": "1.2.0",
          "state": {
            "_model_module": "@jupyter-widgets/base",
            "_model_module_version": "1.2.0",
            "_model_name": "LayoutModel",
            "_view_count": null,
            "_view_module": "@jupyter-widgets/base",
            "_view_module_version": "1.2.0",
            "_view_name": "LayoutView",
            "align_content": null,
            "align_items": null,
            "align_self": null,
            "border": null,
            "bottom": null,
            "display": null,
            "flex": null,
            "flex_flow": null,
            "grid_area": null,
            "grid_auto_columns": null,
            "grid_auto_flow": null,
            "grid_auto_rows": null,
            "grid_column": null,
            "grid_gap": null,
            "grid_row": null,
            "grid_template_areas": null,
            "grid_template_columns": null,
            "grid_template_rows": null,
            "height": null,
            "justify_content": null,
            "justify_items": null,
            "left": null,
            "margin": null,
            "max_height": null,
            "max_width": null,
            "min_height": null,
            "min_width": null,
            "object_fit": null,
            "object_position": null,
            "order": null,
            "overflow": null,
            "overflow_x": null,
            "overflow_y": null,
            "padding": null,
            "right": null,
            "top": null,
            "visibility": null,
            "width": null
          }
        },
        "72a1e6d00bfa4c0d914dedd13f23b123": {
          "model_module": "@jupyter-widgets/base",
          "model_name": "LayoutModel",
          "model_module_version": "1.2.0",
          "state": {
            "_model_module": "@jupyter-widgets/base",
            "_model_module_version": "1.2.0",
            "_model_name": "LayoutModel",
            "_view_count": null,
            "_view_module": "@jupyter-widgets/base",
            "_view_module_version": "1.2.0",
            "_view_name": "LayoutView",
            "align_content": null,
            "align_items": null,
            "align_self": null,
            "border": null,
            "bottom": null,
            "display": null,
            "flex": null,
            "flex_flow": null,
            "grid_area": null,
            "grid_auto_columns": null,
            "grid_auto_flow": null,
            "grid_auto_rows": null,
            "grid_column": null,
            "grid_gap": null,
            "grid_row": null,
            "grid_template_areas": null,
            "grid_template_columns": null,
            "grid_template_rows": null,
            "height": null,
            "justify_content": null,
            "justify_items": null,
            "left": null,
            "margin": null,
            "max_height": null,
            "max_width": null,
            "min_height": null,
            "min_width": null,
            "object_fit": null,
            "object_position": null,
            "order": null,
            "overflow": null,
            "overflow_x": null,
            "overflow_y": null,
            "padding": null,
            "right": null,
            "top": null,
            "visibility": null,
            "width": null
          }
        },
        "ea1bea0b2997423aad3faae978b9ca41": {
          "model_module": "@jupyter-widgets/controls",
          "model_name": "DescriptionStyleModel",
          "model_module_version": "1.5.0",
          "state": {
            "_model_module": "@jupyter-widgets/controls",
            "_model_module_version": "1.5.0",
            "_model_name": "DescriptionStyleModel",
            "_view_count": null,
            "_view_module": "@jupyter-widgets/base",
            "_view_module_version": "1.2.0",
            "_view_name": "StyleView",
            "description_width": ""
          }
        },
        "6601a521c9044d778471ef5e158ad61e": {
          "model_module": "@jupyter-widgets/base",
          "model_name": "LayoutModel",
          "model_module_version": "1.2.0",
          "state": {
            "_model_module": "@jupyter-widgets/base",
            "_model_module_version": "1.2.0",
            "_model_name": "LayoutModel",
            "_view_count": null,
            "_view_module": "@jupyter-widgets/base",
            "_view_module_version": "1.2.0",
            "_view_name": "LayoutView",
            "align_content": null,
            "align_items": null,
            "align_self": null,
            "border": null,
            "bottom": null,
            "display": null,
            "flex": null,
            "flex_flow": null,
            "grid_area": null,
            "grid_auto_columns": null,
            "grid_auto_flow": null,
            "grid_auto_rows": null,
            "grid_column": null,
            "grid_gap": null,
            "grid_row": null,
            "grid_template_areas": null,
            "grid_template_columns": null,
            "grid_template_rows": null,
            "height": null,
            "justify_content": null,
            "justify_items": null,
            "left": null,
            "margin": null,
            "max_height": null,
            "max_width": null,
            "min_height": null,
            "min_width": null,
            "object_fit": null,
            "object_position": null,
            "order": null,
            "overflow": null,
            "overflow_x": null,
            "overflow_y": null,
            "padding": null,
            "right": null,
            "top": null,
            "visibility": null,
            "width": null
          }
        }
      }
    }
  },
  "nbformat": 4,
  "nbformat_minor": 0
}